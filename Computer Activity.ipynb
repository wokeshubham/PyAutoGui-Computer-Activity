{
 "cells": [
  {
   "cell_type": "markdown",
   "source": [
    "**In this project, I'm using pyautogui to move the mouse and press keys after some time period. This is helpful when you want to keep your computer active. This is specially helpful when you're asked by your company to install proprietary software which checks if the computer is active after every 'x' mins.**"
   ],
   "metadata": {}
  },
  {
   "cell_type": "code",
   "execution_count": null,
   "source": [
    "#before importing, install pyautogui using pip install pyautogui in the terminal/cmd\r\n",
    "\r\n",
    "import pyautogui\r\n",
    "import time"
   ],
   "outputs": [],
   "metadata": {}
  },
  {
   "cell_type": "code",
   "execution_count": null,
   "source": [
    "pyautogui.Failsafe = False\r\n",
    "#this is a failsafe for pyautogui\r\n",
    "while True:\r\n",
    "    time.sleep(300)\r\n",
    "    #below functions will occur after every 300 secs.\r\n",
    "    for i in range(0,100):\r\n",
    "        pyautogui.moveTo(0, i*5)\r\n",
    "    #this will move the mouse 500 pixels from the top left of screen\r\n",
    "    for i in range(0,3):\r\n",
    "        pyautogui.press('left')\r\n",
    "    #this will click the left button 3 times after the mouse stops"
   ],
   "outputs": [],
   "metadata": {}
  },
  {
   "cell_type": "markdown",
   "source": [
    "**Thank you so much for viewing this project**\r\n",
    "\r\n",
    "**Follow me on LinkedIn** >   https://www.linkedin.com/shubhamrastogi98\r\n",
    "\r\n",
    "**Follow me on Github**   >   https://www.github.com/wokeshubham"
   ],
   "metadata": {}
  }
 ],
 "metadata": {
  "orig_nbformat": 4,
  "language_info": {
   "name": "python"
  }
 },
 "nbformat": 4,
 "nbformat_minor": 2
}